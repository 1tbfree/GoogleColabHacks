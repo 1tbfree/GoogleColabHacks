!apt update
!curl -sSf https://sshx.io/get | sh
!sshx
